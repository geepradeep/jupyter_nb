{
 "cells": [
  {
   "cell_type": "markdown",
   "metadata": {},
   "source": [
    "# Comparing QM and QM/EFP orbitals:\n",
    "\n",
    "To view the orbital in a larger size, right click on the image and click open in a new tab.\n",
    "\n",
    "<table>\n",
    "  <tr>\n",
    "    <th>Method/Orbital number</th>\n",
    "    <th>QM (gas phase)</th>\n",
    "    <th>QM/EFP1 (no exrep)</th>\n",
    "    <th>QM/EFP2 (no exrep)</th>\n",
    "    <th>QM/EFP1 (with exrep)</th>\n",
    "  </tr>\n",
    "  <tr>\n",
    "    <td>HOMO</td>\n",
    "    <td><img src=\"files/qm_25.png\" width=1000></td>\n",
    "    <td><img src=\"files/qmefp1_noexrep_25.png\" width=1000></td>\n",
    "    <td><img src=\"files/qmefp2_noexrep_25.png\" width=1000></td>\n",
    "    <td><img src=\"files/qmefp1_exrep_25.png\" width=1000></td>\n",
    "  </tr>\n",
    "  <tr>\n",
    "    <td>HOMO-1</td>\n",
    "    <td><img src=\"files/qm_24.png\" width=1000></td>\n",
    "    <td><img src=\"files/qmefp1_noexrep_24.png\" width=1000></td>\n",
    "    <td><img src=\"files/qmefp2_noexrep_24.png\" width=1000></td>\n",
    "    <td><img src=\"files/qmefp1_exrep_24.png\" width=1000></td>\n",
    "  </tr>\n",
    "  <tr>\n",
    "    <td>HOMO-2</td>\n",
    "    <td><img src=\"files/qm_23.png\" width=1000></td>\n",
    "    <td><img src=\"files/qmefp1_noexrep_23.png\" width=1000></td>\n",
    "    <td><img src=\"files/qmefp2_noexrep_23.png\" width=1000></td>\n",
    "    <td><img src=\"files/qmefp1_exrep_23.png\" width=1000></td>\n",
    "  </tr>\n",
    "  <tr>\n",
    "    <td>HOMO-3</td>\n",
    "    <td><img src=\"files/qm_22.png\" width=1000></td>\n",
    "    <td><img src=\"files/qmefp1_noexrep_22.png\" width=1000></td>\n",
    "    <td><img src=\"files/qmefp2_noexrep_22.png\" width=1000></td>\n",
    "    <td><img src=\"files/qmefp1_exrep_22.png\" width=1000></td>\n",
    "  </tr>\n",
    "  <tr>\n",
    "    <td>HOMO-4</td>\n",
    "    <td><img src=\"files/qm_21.png\" width=1000></td>\n",
    "    <td><img src=\"files/qmefp1_noexrep_21.png\" width=1000></td>\n",
    "    <td><img src=\"files/qmefp2_noexrep_21.png\" width=1000></td>\n",
    "    <td><img src=\"files/qmefp1_exrep_21.png\" width=1000></td>\n",
    "  </tr>\n",
    "</table>"
   ]
  },
  {
   "cell_type": "code",
   "execution_count": 1,
   "metadata": {
    "collapsed": false
   },
   "outputs": [
    {
     "name": "stdout",
     "output_type": "stream",
     "text": [
      "/home/nanohub/pgurunat/notebooks/DOCS_AND_EXAMPLES/examples\r\n"
     ]
    }
   ],
   "source": [
    "!pwd"
   ]
  },
  {
   "cell_type": "code",
   "execution_count": 2,
   "metadata": {
    "collapsed": false
   },
   "outputs": [
    {
     "name": "stdout",
     "output_type": "stream",
     "text": [
      "GUI  Untitled.ipynb  extensions  ipywidgets  matlab  misc     plot    rappture\r\n",
      "R    examples.ipynb  files\t math\t     md      physics  python  tools\r\n"
     ]
    }
   ],
   "source": [
    "!ls"
   ]
  },
  {
   "cell_type": "code",
   "execution_count": null,
   "metadata": {
    "collapsed": true
   },
   "outputs": [],
   "source": []
  }
 ],
 "metadata": {
  "kernelspec": {
   "display_name": "Python2",
   "language": "python",
   "name": "python2"
  },
  "language_info": {
   "codemirror_mode": {
    "name": "ipython",
    "version": 2
   },
   "file_extension": ".py",
   "mimetype": "text/x-python",
   "name": "python",
   "nbconvert_exporter": "python",
   "pygments_lexer": "ipython2",
   "version": "2.7.13"
  }
 },
 "nbformat": 4,
 "nbformat_minor": 2
}
