{
 "cells": [
  {
   "cell_type": "markdown",
   "metadata": {},
   "source": [
    "# Comparing QM and QM/EFP orbitals:\n",
    "\n",
    "To view the orbital in a larger size, right click on the image and click open in a new tab.\n",
    "\n",
    "\n",
    "\n",
    "<table>\n",
    "  <tr>\n",
    "    <th>Method/Orbital number</th>\n",
    "    <th>QM (gas phase)</th>\n",
    "    <th>QM/EFP1 (no exrep)</th>\n",
    "    <th>QM/EFP1 (with exrep)</th>\n",
    "  </tr>\n",
    "  <tr>\n",
    "    <td>HOMO</td>\n",
    "    <td><img src=\"https://raw.githubusercontent.com/geepradeep/jupyter_nb/master/files/qm_25.png\" width=200></td>\n",
    "    <td><img src=\"https://raw.githubusercontent.com/geepradeep/jupyter_nb/master/files/qmefp1_noexrep_25.png\" width=200></td>\n",
    "    <td><img src=\"https://raw.githubusercontent.com/geepradeep/jupyter_nb/master/files/qmefp1_exrep_25.png\" width=200></td>\n",
    "  </tr>\n",
    "  <tr>\n",
    "    <td>HOMO-1</td>\n",
    "    <td><img src=\"https://raw.githubusercontent.com/geepradeep/jupyter_nb/master/files/qm_24.png\" width=200></td>\n",
    "    <td><img src=\"https://raw.githubusercontent.com/geepradeep/jupyter_nb/master/files/qmefp1_noexrep_24.png\" width=200></td>\n",
    "    <td><img src=\"https://raw.githubusercontent.com/geepradeep/jupyter_nb/master/files/qmefp1_exrep_24.png\" width=200></td>\n",
    "  </tr>\n",
    "  <tr>\n",
    "    <td>HOMO-2</td>\n",
    "    <td><img src=\"https://raw.githubusercontent.com/geepradeep/jupyter_nb/master/files/qm_23.png\" width=200></td>\n",
    "    <td><img src=\"https://raw.githubusercontent.com/geepradeep/jupyter_nb/master/files/qmefp1_noexrep_23.png\" width=200></td>\n",
    "    <td><img src=\"https://raw.githubusercontent.com/geepradeep/jupyter_nb/master/files/qmefp1_exrep_23.png\" width=200></td>\n",
    "  </tr>\n",
    "  <tr>\n",
    "    <td>HOMO-3</td>\n",
    "    <td><img src=\"https://raw.githubusercontent.com/geepradeep/jupyter_nb/master/files/qm_22.png\" width=200></td>\n",
    "    <td><img src=\"https://raw.githubusercontent.com/geepradeep/jupyter_nb/master/files/qmefp1_noexrep_22.png\" width=200></td>\n",
    "    <td><img src=\"https://raw.githubusercontent.com/geepradeep/jupyter_nb/master/files/qmefp1_exrep_22.png\" width=200></td>\n",
    "  </tr>\n",
    "  <tr>\n",
    "    <td>HOMO-4</td>\n",
    "    <td><img src=\"https://raw.githubusercontent.com/geepradeep/jupyter_nb/master/files/qm_21.png\" width=200></td>\n",
    "    <td><img src=\"https://raw.githubusercontent.com/geepradeep/jupyter_nb/master/files/qmefp1_noexrep_21.png\" width=200></td>\n",
    "    <td><img src=\"https://raw.githubusercontent.com/geepradeep/jupyter_nb/master/files/qmefp1_exrep_21.png\" width=200></td>\n",
    "  </tr>\n",
    "  <tr>\n",
    "    <td>HOMO-5</td>\n",
    "    <td><img src=\"https://raw.githubusercontent.com/geepradeep/jupyter_nb/master/files/qm_20.png\" width=200></td>\n",
    "    <td><img src=\"https://raw.githubusercontent.com/geepradeep/jupyter_nb/master/files/qmefp1_noexrep_20.png\" width=200></td>\n",
    "    <td><img src=\"https://raw.githubusercontent.com/geepradeep/jupyter_nb/master/files/qmefp1_exrep_20.png\" width=200></td>\n",
    "  </tr>\n",
    "  <tr>\n",
    "    <td>HOMO-6</td>\n",
    "    <td><img src=\"https://raw.githubusercontent.com/geepradeep/jupyter_nb/master/files/qm_19.png\" width=200></td>\n",
    "    <td><img src=\"https://raw.githubusercontent.com/geepradeep/jupyter_nb/master/files/qmefp1_noexrep_19.png\" width=200></td>\n",
    "    <td><img src=\"https://raw.githubusercontent.com/geepradeep/jupyter_nb/master/files/qmefp1_exrep_19.png\" width=200></td>\n",
    "  </tr>\n",
    "  <tr>\n",
    "    <td>HOMO-7</td>\n",
    "    <td><img src=\"https://raw.githubusercontent.com/geepradeep/jupyter_nb/master/files/qm_18.png\" width=200></td>\n",
    "    <td><img src=\"https://raw.githubusercontent.com/geepradeep/jupyter_nb/master/files/qmefp1_noexrep_18.png\" width=200></td>\n",
    "    <td><img src=\"https://raw.githubusercontent.com/geepradeep/jupyter_nb/master/files/qmefp1_exrep_18.png\" width=200></td>\n",
    "  </tr>\n",
    "  <tr>\n",
    "    <td>HOMO-8</td>\n",
    "    <td><img src=\"https://raw.githubusercontent.com/geepradeep/jupyter_nb/master/files/qm_17.png\" width=200></td>\n",
    "    <td><img src=\"https://raw.githubusercontent.com/geepradeep/jupyter_nb/master/files/qmefp1_noexrep_17.png\" width=200></td>\n",
    "    <td><img src=\"https://raw.githubusercontent.com/geepradeep/jupyter_nb/master/files/qmefp1_exrep_17.png\" width=200></td>\n",
    "  </tr>\n",
    "  <tr>\n",
    "    <td>HOMO-9</td>\n",
    "    <td><img src=\"https://raw.githubusercontent.com/geepradeep/jupyter_nb/master/files/qm_16.png\" width=200></td>\n",
    "    <td><img src=\"https://raw.githubusercontent.com/geepradeep/jupyter_nb/master/files/qmefp1_noexrep_16.png\" width=200></td>\n",
    "    <td><img src=\"https://raw.githubusercontent.com/geepradeep/jupyter_nb/master/files/qmefp1_exrep_16.png\" width=200></td>\n",
    "  </tr>\n",
    "  <tr>\n",
    "    <td>HOMO-10</td>\n",
    "    <td><img src=\"https://raw.githubusercontent.com/geepradeep/jupyter_nb/master/files/qm_15.png\" width=200></td>\n",
    "    <td><img src=\"https://raw.githubusercontent.com/geepradeep/jupyter_nb/master/files/qmefp1_noexrep_15.png\" width=200></td>\n",
    "    <td><img src=\"https://raw.githubusercontent.com/geepradeep/jupyter_nb/master/files/qmefp1_exrep_15.png\" width=200></td>\n",
    "  </tr>\n",
    "  <tr>\n",
    "    <td>HOMO-11</td>\n",
    "    <td><img src=\"https://raw.githubusercontent.com/geepradeep/jupyter_nb/master/files/qm_14.png\" width=200></td>\n",
    "    <td><img src=\"https://raw.githubusercontent.com/geepradeep/jupyter_nb/master/files/qmefp1_noexrep_14.png\" width=200></td>\n",
    "    <td><img src=\"https://raw.githubusercontent.com/geepradeep/jupyter_nb/master/files/qmefp1_exrep_14.png\" width=200></td>\n",
    "  </tr>\n",
    "  <tr>\n",
    "    <td>HOMO-12</td>\n",
    "    <td><img src=\"https://raw.githubusercontent.com/geepradeep/jupyter_nb/master/files/qm_13.png\" width=200></td>\n",
    "    <td><img src=\"https://raw.githubusercontent.com/geepradeep/jupyter_nb/master/files/qmefp1_noexrep_13.png\" width=200></td>\n",
    "    <td><img src=\"https://raw.githubusercontent.com/geepradeep/jupyter_nb/master/files/qmefp1_exrep_13.png\" width=200></td>\n",
    "  </tr>\n",
    "  <tr>\n",
    "    <td>HOMO-13</td>\n",
    "    <td><img src=\"https://raw.githubusercontent.com/geepradeep/jupyter_nb/master/files/qm_12.png\" width=200></td>\n",
    "    <td><img src=\"https://raw.githubusercontent.com/geepradeep/jupyter_nb/master/files/qmefp1_noexrep_12.png\" width=200></td>\n",
    "    <td><img src=\"https://raw.githubusercontent.com/geepradeep/jupyter_nb/master/files/qmefp1_exrep_12.png\" width=200></td>\n",
    "  </tr>\n",
    "  <tr>\n",
    "    <td>HOMO-14</td>\n",
    "    <td><img src=\"https://raw.githubusercontent.com/geepradeep/jupyter_nb/master/files/qm_11.png\" width=200></td>\n",
    "    <td><img src=\"https://raw.githubusercontent.com/geepradeep/jupyter_nb/master/files/qmefp1_noexrep_11.png\" width=200></td>\n",
    "    <td><img src=\"https://raw.githubusercontent.com/geepradeep/jupyter_nb/master/files/qmefp1_exrep_11.png\" width=200></td>\n",
    "  </tr>\n",
    "</table>"
   ]
  },
  {
   "cell_type": "markdown",
   "metadata": {
    "collapsed": false
   },
   "source": [
    "Orbital parameters used:\n",
    "* Number of grid points = 60\n",
    "* Grid size = 70\n",
    "* Contour value = 0.08\n",
    "* Transparency = 50%\n",
    "* Solid = Y, Wireframe = N\n",
    "* Smooth = Yes\n",
    "* wxmacmolplt, v. 7.5\n",
    "Window parameters used:\n",
    "* Window size = 1920 * 987 pixels\n",
    "* Window scale = 12.000000\n",
    "* Window center = 3.092   2.457  -4.694\n",
    "* Rotation Angles = 112.39   6.58   55.19"
   ]
  },
  {
   "cell_type": "markdown",
   "metadata": {
    "collapsed": false
   },
   "source": [
    "* To download the orbitals all at once, click [here](https://github.com/geepradeep/jupyter_nb/raw/master/orbital_snapshots.tar.gz)."
   ]
  },
  {
   "cell_type": "markdown",
   "metadata": {
    "collapsed": true
   },
   "source": [
    "*** July 24, 2017 ***"
   ]
  }
 ],
 "metadata": {
  "kernelspec": {
   "display_name": "Python2",
   "language": "python",
   "name": "python2"
  },
  "language_info": {
   "codemirror_mode": {
    "name": "ipython",
    "version": 2
   },
   "file_extension": ".py",
   "mimetype": "text/x-python",
   "name": "python",
   "nbconvert_exporter": "python",
   "pygments_lexer": "ipython2",
   "version": "2.7.13"
  }
 },
 "nbformat": 4,
 "nbformat_minor": 2
}
