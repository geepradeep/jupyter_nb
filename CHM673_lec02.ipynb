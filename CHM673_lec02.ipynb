{
 "cells": [
  {
   "cell_type": "markdown",
   "metadata": {},
   "source": [
    "# Learning Python"
   ]
  },
  {
   "cell_type": "markdown",
   "metadata": {},
   "source": [
    "There are lots of great online resources for learning Python and learning Jupyter notebooks with Python.    "
   ]
  },
  {
   "cell_type": "markdown",
   "metadata": {},
   "source": [
    "### Probably the best, most complete book on scientific Python:\n",
    "\n",
    "A Primer on Scientific Programming with Python (Texts in Computational Science and Engineering) 5th ed. 2016 Edition\n",
    "\n",
    "by Hans Petter Langtangen\n",
    "\n",
    "https://www.amazon.com/Scientific-Programming-Computational-Science-Engineering/dp/3662498863/ref=mt_hardcover?_encoding=UTF8"
   ]
  },
  {
   "cell_type": "markdown",
   "metadata": {},
   "source": [
    "#### Experts and intermediates - Patience please!!!\n",
    "\n",
    "Let's start with some simple introduction.\n",
    "\n",
    "Printing text in python is very easy."
   ]
  },
  {
   "cell_type": "code",
   "execution_count": 1,
   "metadata": {
    "collapsed": false
   },
   "outputs": [
    {
     "name": "stdout",
     "output_type": "stream",
     "text": [
      "Hello World!\n"
     ]
    }
   ],
   "source": [
    "print 'Hello World!'"
   ]
  },
  {
   "cell_type": "code",
   "execution_count": 2,
   "metadata": {
    "collapsed": false
   },
   "outputs": [
    {
     "name": "stdout",
     "output_type": "stream",
     "text": [
      "1\n"
     ]
    }
   ],
   "source": [
    "print 1"
   ]
  },
  {
   "cell_type": "markdown",
   "metadata": {},
   "source": [
    "What's the difference between '1' and 1?\n",
    "\n",
    "Let's try."
   ]
  },
  {
   "cell_type": "code",
   "execution_count": 3,
   "metadata": {
    "collapsed": false
   },
   "outputs": [
    {
     "name": "stdout",
     "output_type": "stream",
     "text": [
      "1\n"
     ]
    }
   ],
   "source": [
    "print '1'"
   ]
  },
  {
   "cell_type": "code",
   "execution_count": 4,
   "metadata": {
    "collapsed": false
   },
   "outputs": [
    {
     "name": "stdout",
     "output_type": "stream",
     "text": [
      "1\n"
     ]
    }
   ],
   "source": [
    "print 1"
   ]
  },
  {
   "cell_type": "markdown",
   "metadata": {},
   "source": [
    "Let's try and assign values to variables."
   ]
  },
  {
   "cell_type": "code",
   "execution_count": 5,
   "metadata": {
    "collapsed": true
   },
   "outputs": [],
   "source": [
    "a = 10      # I assign the value of a to 1."
   ]
  },
  {
   "cell_type": "code",
   "execution_count": 6,
   "metadata": {
    "collapsed": false
   },
   "outputs": [
    {
     "name": "stdout",
     "output_type": "stream",
     "text": [
      "10\n"
     ]
    }
   ],
   "source": [
    "print a"
   ]
  },
  {
   "cell_type": "code",
   "execution_count": 7,
   "metadata": {
    "collapsed": false
   },
   "outputs": [
    {
     "data": {
      "text/plain": [
       "int"
      ]
     },
     "execution_count": 7,
     "metadata": {},
     "output_type": "execute_result"
    }
   ],
   "source": [
    "type(a)    # What is the type of a? Is it an integer or a floating point number or a string...?"
   ]
  },
  {
   "cell_type": "code",
   "execution_count": 8,
   "metadata": {
    "collapsed": true
   },
   "outputs": [],
   "source": [
    "a = 'Batman'"
   ]
  },
  {
   "cell_type": "code",
   "execution_count": 9,
   "metadata": {
    "collapsed": false
   },
   "outputs": [
    {
     "name": "stdout",
     "output_type": "stream",
     "text": [
      "Batman\n"
     ]
    }
   ],
   "source": [
    "print a"
   ]
  },
  {
   "cell_type": "code",
   "execution_count": 10,
   "metadata": {
    "collapsed": false
   },
   "outputs": [
    {
     "data": {
      "text/plain": [
       "str"
      ]
     },
     "execution_count": 10,
     "metadata": {},
     "output_type": "execute_result"
    }
   ],
   "source": [
    "type(a)"
   ]
  },
  {
   "cell_type": "code",
   "execution_count": 11,
   "metadata": {
    "collapsed": true
   },
   "outputs": [],
   "source": [
    "b = a    # Set b equals to a. Now b assigns the value of a."
   ]
  },
  {
   "cell_type": "code",
   "execution_count": 12,
   "metadata": {
    "collapsed": false
   },
   "outputs": [
    {
     "data": {
      "text/plain": [
       "'Batman'"
      ]
     },
     "execution_count": 12,
     "metadata": {},
     "output_type": "execute_result"
    }
   ],
   "source": [
    "b"
   ]
  },
  {
   "cell_type": "code",
   "execution_count": 13,
   "metadata": {
    "collapsed": true
   },
   "outputs": [],
   "source": [
    "a = 15.75"
   ]
  },
  {
   "cell_type": "code",
   "execution_count": 14,
   "metadata": {
    "collapsed": false
   },
   "outputs": [
    {
     "data": {
      "text/plain": [
       "15.75"
      ]
     },
     "execution_count": 14,
     "metadata": {},
     "output_type": "execute_result"
    }
   ],
   "source": [
    "a"
   ]
  },
  {
   "cell_type": "code",
   "execution_count": 15,
   "metadata": {
    "collapsed": false
   },
   "outputs": [
    {
     "data": {
      "text/plain": [
       "'Batman'"
      ]
     },
     "execution_count": 15,
     "metadata": {},
     "output_type": "execute_result"
    }
   ],
   "source": [
    "b"
   ]
  },
  {
   "cell_type": "code",
   "execution_count": 16,
   "metadata": {
    "collapsed": false
   },
   "outputs": [
    {
     "data": {
      "text/plain": [
       "float"
      ]
     },
     "execution_count": 16,
     "metadata": {},
     "output_type": "execute_result"
    }
   ],
   "source": [
    "type(a)"
   ]
  },
  {
   "cell_type": "markdown",
   "metadata": {},
   "source": [
    "### Introduction to If-else (conditional statements)"
   ]
  },
  {
   "cell_type": "code",
   "execution_count": 17,
   "metadata": {
    "collapsed": false
   },
   "outputs": [
    {
     "name": "stdout",
     "output_type": "stream",
     "text": [
      "less than sweet 16!\n"
     ]
    }
   ],
   "source": [
    "if a < 16.0:\n",
    "    print \"less than sweet 16!\"\n",
    "else:\n",
    "    print \"more than sweet 16!\"    # More than or equal-to in reality!"
   ]
  },
  {
   "cell_type": "markdown",
   "metadata": {},
   "source": [
    "### Loops (for loop)"
   ]
  },
  {
   "cell_type": "code",
   "execution_count": 18,
   "metadata": {
    "collapsed": false
   },
   "outputs": [
    {
     "name": "stdout",
     "output_type": "stream",
     "text": [
      "0\n",
      "1\n",
      "2\n",
      "3\n",
      "4\n",
      "5\n",
      "6\n",
      "7\n",
      "8\n",
      "9\n"
     ]
    }
   ],
   "source": [
    "for i in range(0,10):\n",
    "    print i"
   ]
  },
  {
   "cell_type": "code",
   "execution_count": 19,
   "metadata": {
    "collapsed": false
   },
   "outputs": [
    {
     "name": "stdout",
     "output_type": "stream",
     "text": [
      "0.78\n"
     ]
    }
   ],
   "source": [
    "import random\n",
    "circle = 0\n",
    "square = 100\n",
    "for i in range(square):\n",
    "    x,y = random.randrange(0,100000),random.randrange(0,100000)\n",
    "    if ((x**2)+(y**2)) < 10000000000:\n",
    "        circle += 1\n",
    "print float(circle)/float(square)"
   ]
  },
  {
   "cell_type": "code",
   "execution_count": 20,
   "metadata": {
    "collapsed": false
   },
   "outputs": [
    {
     "data": {
      "text/plain": [
       "0.7853981633974483"
      ]
     },
     "execution_count": 20,
     "metadata": {},
     "output_type": "execute_result"
    }
   ],
   "source": [
    "import math\n",
    "math.pi/4.0    # Check the value with what we obtained using MC"
   ]
  },
  {
   "cell_type": "markdown",
   "metadata": {},
   "source": [
    "### Arrays:"
   ]
  },
  {
   "cell_type": "code",
   "execution_count": 21,
   "metadata": {
    "collapsed": true
   },
   "outputs": [],
   "source": [
    "a = [1,3,7]   # An 1-d array"
   ]
  },
  {
   "cell_type": "code",
   "execution_count": 22,
   "metadata": {
    "collapsed": false
   },
   "outputs": [
    {
     "data": {
      "text/plain": [
       "[1, 3, 7]"
      ]
     },
     "execution_count": 22,
     "metadata": {},
     "output_type": "execute_result"
    }
   ],
   "source": [
    "a"
   ]
  },
  {
   "cell_type": "code",
   "execution_count": 23,
   "metadata": {
    "collapsed": false
   },
   "outputs": [
    {
     "data": {
      "text/plain": [
       "3"
      ]
     },
     "execution_count": 23,
     "metadata": {},
     "output_type": "execute_result"
    }
   ],
   "source": [
    "a[1]"
   ]
  },
  {
   "cell_type": "code",
   "execution_count": 24,
   "metadata": {
    "collapsed": false
   },
   "outputs": [
    {
     "data": {
      "text/plain": [
       "1"
      ]
     },
     "execution_count": 24,
     "metadata": {},
     "output_type": "execute_result"
    }
   ],
   "source": [
    "a[0]"
   ]
  },
  {
   "cell_type": "code",
   "execution_count": 25,
   "metadata": {
    "collapsed": true
   },
   "outputs": [],
   "source": [
    "a[0] = 'new'"
   ]
  },
  {
   "cell_type": "code",
   "execution_count": 26,
   "metadata": {
    "collapsed": false
   },
   "outputs": [
    {
     "data": {
      "text/plain": [
       "['new', 3, 7]"
      ]
     },
     "execution_count": 26,
     "metadata": {},
     "output_type": "execute_result"
    }
   ],
   "source": [
    "a"
   ]
  },
  {
   "cell_type": "code",
   "execution_count": 27,
   "metadata": {
    "collapsed": true
   },
   "outputs": [],
   "source": [
    "a.append(3.5)"
   ]
  },
  {
   "cell_type": "code",
   "execution_count": 28,
   "metadata": {
    "collapsed": false
   },
   "outputs": [
    {
     "data": {
      "text/plain": [
       "['new', 3, 7, 3.5]"
      ]
     },
     "execution_count": 28,
     "metadata": {},
     "output_type": "execute_result"
    }
   ],
   "source": [
    "a"
   ]
  },
  {
   "cell_type": "code",
   "execution_count": 29,
   "metadata": {
    "collapsed": false
   },
   "outputs": [
    {
     "data": {
      "text/plain": [
       "list"
      ]
     },
     "execution_count": 29,
     "metadata": {},
     "output_type": "execute_result"
    }
   ],
   "source": [
    "type(a)"
   ]
  },
  {
   "cell_type": "code",
   "execution_count": 30,
   "metadata": {
    "collapsed": true
   },
   "outputs": [],
   "source": [
    "a = 4.5"
   ]
  },
  {
   "cell_type": "code",
   "execution_count": 31,
   "metadata": {
    "collapsed": false
   },
   "outputs": [
    {
     "name": "stdout",
     "output_type": "stream",
     "text": [
      "4.5\n"
     ]
    }
   ],
   "source": [
    "print a"
   ]
  },
  {
   "cell_type": "markdown",
   "metadata": {},
   "source": [
    "### Let's move on to 2D arrays. 1D is boring! "
   ]
  },
  {
   "cell_type": "code",
   "execution_count": 32,
   "metadata": {
    "collapsed": true
   },
   "outputs": [],
   "source": [
    "my_array = [[]]"
   ]
  },
  {
   "cell_type": "code",
   "execution_count": 33,
   "metadata": {
    "collapsed": false
   },
   "outputs": [
    {
     "name": "stdout",
     "output_type": "stream",
     "text": [
      "[[]]\n"
     ]
    }
   ],
   "source": [
    "print my_array"
   ]
  },
  {
   "cell_type": "code",
   "execution_count": 34,
   "metadata": {
    "collapsed": true
   },
   "outputs": [],
   "source": [
    "my_array.append(3.5)"
   ]
  },
  {
   "cell_type": "code",
   "execution_count": 35,
   "metadata": {
    "collapsed": false
   },
   "outputs": [
    {
     "data": {
      "text/plain": [
       "[[], 3.5]"
      ]
     },
     "execution_count": 35,
     "metadata": {},
     "output_type": "execute_result"
    }
   ],
   "source": [
    "my_array"
   ]
  },
  {
   "cell_type": "code",
   "execution_count": 36,
   "metadata": {
    "collapsed": true
   },
   "outputs": [],
   "source": [
    "my_array = [[1.0, 2.0, 3.0], [4.0, 5.0, 6.0], [7.0, 8.0, 9.0]]"
   ]
  },
  {
   "cell_type": "code",
   "execution_count": 37,
   "metadata": {
    "collapsed": false
   },
   "outputs": [
    {
     "data": {
      "text/plain": [
       "[[1.0, 2.0, 3.0], [4.0, 5.0, 6.0], [7.0, 8.0, 9.0]]"
      ]
     },
     "execution_count": 37,
     "metadata": {},
     "output_type": "execute_result"
    }
   ],
   "source": [
    "my_array"
   ]
  },
  {
   "cell_type": "code",
   "execution_count": 38,
   "metadata": {
    "collapsed": false
   },
   "outputs": [
    {
     "data": {
      "text/plain": [
       "matrix([[ 1.,  2.,  3.],\n",
       "        [ 4.,  5.,  6.],\n",
       "        [ 7.,  8.,  9.]])"
      ]
     },
     "execution_count": 38,
     "metadata": {},
     "output_type": "execute_result"
    }
   ],
   "source": [
    "import numpy as np\n",
    "np.matrix(my_array)"
   ]
  },
  {
   "cell_type": "code",
   "execution_count": 39,
   "metadata": {
    "collapsed": false
   },
   "outputs": [
    {
     "data": {
      "text/html": [
       "<div>\n",
       "<style>\n",
       "    .dataframe thead tr:only-child th {\n",
       "        text-align: right;\n",
       "    }\n",
       "\n",
       "    .dataframe thead th {\n",
       "        text-align: left;\n",
       "    }\n",
       "\n",
       "    .dataframe tbody tr th {\n",
       "        vertical-align: top;\n",
       "    }\n",
       "</style>\n",
       "<table border=\"1\" class=\"dataframe\">\n",
       "  <thead>\n",
       "    <tr style=\"text-align: right;\">\n",
       "      <th></th>\n",
       "      <th>0</th>\n",
       "      <th>1</th>\n",
       "      <th>2</th>\n",
       "    </tr>\n",
       "  </thead>\n",
       "  <tbody>\n",
       "    <tr>\n",
       "      <th>0</th>\n",
       "      <td>1.0</td>\n",
       "      <td>2.0</td>\n",
       "      <td>3.0</td>\n",
       "    </tr>\n",
       "    <tr>\n",
       "      <th>1</th>\n",
       "      <td>4.0</td>\n",
       "      <td>5.0</td>\n",
       "      <td>6.0</td>\n",
       "    </tr>\n",
       "    <tr>\n",
       "      <th>2</th>\n",
       "      <td>7.0</td>\n",
       "      <td>8.0</td>\n",
       "      <td>9.0</td>\n",
       "    </tr>\n",
       "  </tbody>\n",
       "</table>\n",
       "</div>"
      ],
      "text/plain": [
       "     0    1    2\n",
       "0  1.0  2.0  3.0\n",
       "1  4.0  5.0  6.0\n",
       "2  7.0  8.0  9.0"
      ]
     },
     "execution_count": 39,
     "metadata": {},
     "output_type": "execute_result"
    }
   ],
   "source": [
    "import pandas as pd\n",
    "pd.DataFrame(my_array, columns=list('012'))"
   ]
  },
  {
   "cell_type": "markdown",
   "metadata": {},
   "source": [
    "### Let's solve a real problem now!\n",
    "\n",
    "We need to find the distance between all atoms in a given molecule.\n",
    "\n",
    "Test case: Benzene - http://cccbdb.nist.gov"
   ]
  },
  {
   "cell_type": "code",
   "execution_count": 40,
   "metadata": {
    "collapsed": false
   },
   "outputs": [
    {
     "name": "stdout",
     "output_type": "stream",
     "text": [
      "12\r\n",
      "\r\n",
      "C1    0.0000    1.3862    0.0000\r\n",
      "C2    1.2005    0.6931    0.0000\r\n",
      "C3    1.2005    -0.6931    0.0000\r\n",
      "C4    0.0000    -1.3862    0.0000\r\n",
      "C5    -1.2005    -0.6931    0.0000\r\n",
      "C6    -1.2005    0.6931    0.0000\r\n",
      "H7    0.0000    2.4617    0.0000\r\n",
      "H8    2.1319    1.2309    0.0000\r\n",
      "H9    2.1319    -1.2309    0.0000\r\n",
      "H10    0.0000    -2.4617    0.0000\r\n",
      "H11    -2.1319    -1.2309    0.0000\r\n",
      "H12    -2.1319    1.2309    0.0000\r\n"
     ]
    }
   ],
   "source": [
    "!cat files/benzene.xyz"
   ]
  },
  {
   "cell_type": "code",
   "execution_count": 41,
   "metadata": {
    "collapsed": false
   },
   "outputs": [],
   "source": [
    "import parse_xyz\n",
    "atoms = parse_xyz.parse_atoms()\n",
    "coordinates = parse_xyz.parse_coordinates()"
   ]
  },
  {
   "cell_type": "code",
   "execution_count": 42,
   "metadata": {
    "collapsed": false
   },
   "outputs": [
    {
     "data": {
      "text/plain": [
       "[array([ 0.    ,  1.3862,  0.    ]),\n",
       " array([ 1.2005,  0.6931,  0.    ]),\n",
       " array([ 1.2005, -0.6931,  0.    ]),\n",
       " array([ 0.    , -1.3862,  0.    ]),\n",
       " array([-1.2005, -0.6931,  0.    ]),\n",
       " array([-1.2005,  0.6931,  0.    ]),\n",
       " array([ 0.    ,  2.4617,  0.    ]),\n",
       " array([ 2.1319,  1.2309,  0.    ]),\n",
       " array([ 2.1319, -1.2309,  0.    ]),\n",
       " array([ 0.    , -2.4617,  0.    ]),\n",
       " array([-2.1319, -1.2309,  0.    ]),\n",
       " array([-2.1319,  1.2309,  0.    ])]"
      ]
     },
     "execution_count": 42,
     "metadata": {},
     "output_type": "execute_result"
    }
   ],
   "source": [
    "coordinates"
   ]
  },
  {
   "cell_type": "code",
   "execution_count": 43,
   "metadata": {
    "collapsed": false
   },
   "outputs": [
    {
     "data": {
      "text/plain": [
       "['C1', 'C2', 'C3', 'C4', 'C5', 'C6', 'H7', 'H8', 'H9', 'H10', 'H11', 'H12']"
      ]
     },
     "execution_count": 43,
     "metadata": {},
     "output_type": "execute_result"
    }
   ],
   "source": [
    "atoms"
   ]
  },
  {
   "cell_type": "code",
   "execution_count": 44,
   "metadata": {
    "collapsed": false
   },
   "outputs": [
    {
     "name": "stdout",
     "output_type": "stream",
     "text": [
      "import re, numpy\r\n",
      "\r\n",
      "def parse_atoms():\r\n",
      "\tinputFile=open('files/benzene.xyz','r')\r\n",
      "\ta = inputFile.read()\r\n",
      "\ta = a.split('\\n')\r\n",
      "\tatoms = ['atomname']*12\r\n",
      "\tcoordinates = [[0.0 for x in range(3)] for y in range(12)]\r\n",
      "\tfor i in range(len(a)):\r\n",
      "\t\ta[i] = re.sub(' +',' ',a[i])\r\n",
      "\t\ta[i] = a[i].rstrip()\r\n",
      "\t\ta[i] = a[i].split(' ')\r\n",
      "\tfor i in range(2,14):\r\n",
      "\t\tatoms[i-2] = a[i][0]\r\n",
      "\treturn atoms\r\n",
      "\r\n",
      "def parse_coordinates():\r\n",
      "\tinputFile=open('files/benzene.xyz','r')\r\n",
      "\ta = inputFile.read()\r\n",
      "\ta = a.split('\\n')\r\n",
      "\tatoms = ['atomname']*12\r\n",
      "\tcoordinates = [[0.0 for x in range(3)] for y in range(12)]\r\n",
      "\tfor i in range(len(a)):\r\n",
      "\t\ta[i] = re.sub(' +',' ',a[i])\r\n",
      "\t\ta[i] = a[i].rstrip()\r\n",
      "\t\ta[i] = a[i].split(' ')\r\n",
      "\tfor i in range(2,14):\r\n",
      "\t\tcoordinates[i-2] = numpy.array((float(a[i][1]),float(a[i][2]),float(a[i][3])))\r\n",
      "\treturn coordinates\r\n"
     ]
    }
   ],
   "source": [
    "!cat parse_xyz.py"
   ]
  },
  {
   "cell_type": "code",
   "execution_count": 45,
   "metadata": {
    "collapsed": false
   },
   "outputs": [
    {
     "data": {
      "text/html": [
       "<div>\n",
       "<style>\n",
       "    .dataframe thead tr:only-child th {\n",
       "        text-align: right;\n",
       "    }\n",
       "\n",
       "    .dataframe thead th {\n",
       "        text-align: left;\n",
       "    }\n",
       "\n",
       "    .dataframe tbody tr th {\n",
       "        vertical-align: top;\n",
       "    }\n",
       "</style>\n",
       "<table border=\"1\" class=\"dataframe\">\n",
       "  <thead>\n",
       "    <tr style=\"text-align: right;\">\n",
       "      <th></th>\n",
       "      <th>x</th>\n",
       "      <th>y</th>\n",
       "      <th>z</th>\n",
       "    </tr>\n",
       "  </thead>\n",
       "  <tbody>\n",
       "    <tr>\n",
       "      <th>0</th>\n",
       "      <td>0.0000</td>\n",
       "      <td>1.3862</td>\n",
       "      <td>0.0</td>\n",
       "    </tr>\n",
       "    <tr>\n",
       "      <th>1</th>\n",
       "      <td>1.2005</td>\n",
       "      <td>0.6931</td>\n",
       "      <td>0.0</td>\n",
       "    </tr>\n",
       "    <tr>\n",
       "      <th>2</th>\n",
       "      <td>1.2005</td>\n",
       "      <td>-0.6931</td>\n",
       "      <td>0.0</td>\n",
       "    </tr>\n",
       "    <tr>\n",
       "      <th>3</th>\n",
       "      <td>0.0000</td>\n",
       "      <td>-1.3862</td>\n",
       "      <td>0.0</td>\n",
       "    </tr>\n",
       "    <tr>\n",
       "      <th>4</th>\n",
       "      <td>-1.2005</td>\n",
       "      <td>-0.6931</td>\n",
       "      <td>0.0</td>\n",
       "    </tr>\n",
       "    <tr>\n",
       "      <th>5</th>\n",
       "      <td>-1.2005</td>\n",
       "      <td>0.6931</td>\n",
       "      <td>0.0</td>\n",
       "    </tr>\n",
       "    <tr>\n",
       "      <th>6</th>\n",
       "      <td>0.0000</td>\n",
       "      <td>2.4617</td>\n",
       "      <td>0.0</td>\n",
       "    </tr>\n",
       "    <tr>\n",
       "      <th>7</th>\n",
       "      <td>2.1319</td>\n",
       "      <td>1.2309</td>\n",
       "      <td>0.0</td>\n",
       "    </tr>\n",
       "    <tr>\n",
       "      <th>8</th>\n",
       "      <td>2.1319</td>\n",
       "      <td>-1.2309</td>\n",
       "      <td>0.0</td>\n",
       "    </tr>\n",
       "    <tr>\n",
       "      <th>9</th>\n",
       "      <td>0.0000</td>\n",
       "      <td>-2.4617</td>\n",
       "      <td>0.0</td>\n",
       "    </tr>\n",
       "    <tr>\n",
       "      <th>10</th>\n",
       "      <td>-2.1319</td>\n",
       "      <td>-1.2309</td>\n",
       "      <td>0.0</td>\n",
       "    </tr>\n",
       "    <tr>\n",
       "      <th>11</th>\n",
       "      <td>-2.1319</td>\n",
       "      <td>1.2309</td>\n",
       "      <td>0.0</td>\n",
       "    </tr>\n",
       "  </tbody>\n",
       "</table>\n",
       "</div>"
      ],
      "text/plain": [
       "         x       y    z\n",
       "0   0.0000  1.3862  0.0\n",
       "1   1.2005  0.6931  0.0\n",
       "2   1.2005 -0.6931  0.0\n",
       "3   0.0000 -1.3862  0.0\n",
       "4  -1.2005 -0.6931  0.0\n",
       "5  -1.2005  0.6931  0.0\n",
       "6   0.0000  2.4617  0.0\n",
       "7   2.1319  1.2309  0.0\n",
       "8   2.1319 -1.2309  0.0\n",
       "9   0.0000 -2.4617  0.0\n",
       "10 -2.1319 -1.2309  0.0\n",
       "11 -2.1319  1.2309  0.0"
      ]
     },
     "execution_count": 45,
     "metadata": {},
     "output_type": "execute_result"
    }
   ],
   "source": [
    "import pandas as pd\n",
    "pd.DataFrame(coordinates, columns=list('xyz'))"
   ]
  },
  {
   "cell_type": "code",
   "execution_count": 46,
   "metadata": {
    "collapsed": false
   },
   "outputs": [
    {
     "data": {
      "text/plain": [
       "array([ 1.2005,  0.6931,  0.    ])"
      ]
     },
     "execution_count": 46,
     "metadata": {},
     "output_type": "execute_result"
    }
   ],
   "source": [
    "coordinates[1]"
   ]
  },
  {
   "cell_type": "code",
   "execution_count": 47,
   "metadata": {
    "collapsed": false
   },
   "outputs": [],
   "source": [
    "import math\n",
    "distance = [[5.0 for x in range(12)]for y in range(12)]\n",
    "for i in range(len(coordinates)):\n",
    "    for j in range(len(coordinates)):\n",
    "        distance[i][j] = math.sqrt(((coordinates[i][0]-coordinates[j][0])**2)+((coordinates[i][1]-coordinates[j][1])**2)+((coordinates[i][2]-coordinates[j][2])**2))"
   ]
  },
  {
   "cell_type": "code",
   "execution_count": 48,
   "metadata": {
    "collapsed": false
   },
   "outputs": [
    {
     "data": {
      "text/plain": [
       "[[0.0,\n",
       "  1.3862134972651219,\n",
       "  2.400976622126921,\n",
       "  2.7724,\n",
       "  2.400976622126921,\n",
       "  1.3862134972651219,\n",
       "  1.0755,\n",
       "  2.1375489935905563,\n",
       "  3.3755310722906993,\n",
       "  3.8479,\n",
       "  3.3755310722906993,\n",
       "  2.1375489935905563],\n",
       " [1.3862134972651219,\n",
       "  0.0,\n",
       "  1.3862,\n",
       "  2.400976622126921,\n",
       "  2.7724269945302438,\n",
       "  2.401,\n",
       "  2.137556130257168,\n",
       "  1.075516062176665,\n",
       "  2.137587883573445,\n",
       "  3.3754945252510775,\n",
       "  3.8479430557117134,\n",
       "  3.375517530690664],\n",
       " [2.400976622126921,\n",
       "  1.3862,\n",
       "  0.0,\n",
       "  1.3862134972651219,\n",
       "  2.401,\n",
       "  2.7724269945302438,\n",
       "  3.3754945252510775,\n",
       "  2.137587883573445,\n",
       "  1.075516062176665,\n",
       "  2.137556130257168,\n",
       "  3.375517530690664,\n",
       "  3.8479430557117134],\n",
       " [2.7724,\n",
       "  2.400976622126921,\n",
       "  1.3862134972651219,\n",
       "  0.0,\n",
       "  1.3862134972651219,\n",
       "  2.400976622126921,\n",
       "  3.8479,\n",
       "  3.3755310722906993,\n",
       "  2.1375489935905563,\n",
       "  1.0755,\n",
       "  2.1375489935905563,\n",
       "  3.3755310722906993],\n",
       " [2.400976622126921,\n",
       "  2.7724269945302438,\n",
       "  2.401,\n",
       "  1.3862134972651219,\n",
       "  0.0,\n",
       "  1.3862,\n",
       "  3.3754945252510775,\n",
       "  3.8479430557117134,\n",
       "  3.375517530690664,\n",
       "  2.137556130257168,\n",
       "  1.075516062176665,\n",
       "  2.137587883573445],\n",
       " [1.3862134972651219,\n",
       "  2.401,\n",
       "  2.7724269945302438,\n",
       "  2.400976622126921,\n",
       "  1.3862,\n",
       "  0.0,\n",
       "  2.137556130257168,\n",
       "  3.375517530690664,\n",
       "  3.8479430557117134,\n",
       "  3.3754945252510775,\n",
       "  2.137587883573445,\n",
       "  1.075516062176665],\n",
       " [1.0755,\n",
       "  2.137556130257168,\n",
       "  3.3754945252510775,\n",
       "  3.8479,\n",
       "  3.3754945252510775,\n",
       "  2.137556130257168,\n",
       "  0.0,\n",
       "  2.4616795587565816,\n",
       "  4.263835406063419,\n",
       "  4.9234,\n",
       "  4.263835406063419,\n",
       "  2.4616795587565816],\n",
       " [2.1375489935905563,\n",
       "  1.075516062176665,\n",
       "  2.137587883573445,\n",
       "  3.3755310722906993,\n",
       "  3.8479430557117134,\n",
       "  3.375517530690664,\n",
       "  2.4616795587565816,\n",
       "  0.0,\n",
       "  2.4618,\n",
       "  4.263835406063419,\n",
       "  4.923459117327979,\n",
       "  4.2638],\n",
       " [3.3755310722906993,\n",
       "  2.137587883573445,\n",
       "  1.075516062176665,\n",
       "  2.1375489935905563,\n",
       "  3.375517530690664,\n",
       "  3.8479430557117134,\n",
       "  4.263835406063419,\n",
       "  2.4618,\n",
       "  0.0,\n",
       "  2.4616795587565816,\n",
       "  4.2638,\n",
       "  4.923459117327979],\n",
       " [3.8479,\n",
       "  3.3754945252510775,\n",
       "  2.137556130257168,\n",
       "  1.0755,\n",
       "  2.137556130257168,\n",
       "  3.3754945252510775,\n",
       "  4.9234,\n",
       "  4.263835406063419,\n",
       "  2.4616795587565816,\n",
       "  0.0,\n",
       "  2.4616795587565816,\n",
       "  4.263835406063419],\n",
       " [3.3755310722906993,\n",
       "  3.8479430557117134,\n",
       "  3.375517530690664,\n",
       "  2.1375489935905563,\n",
       "  1.075516062176665,\n",
       "  2.137587883573445,\n",
       "  4.263835406063419,\n",
       "  4.923459117327979,\n",
       "  4.2638,\n",
       "  2.4616795587565816,\n",
       "  0.0,\n",
       "  2.4618],\n",
       " [2.1375489935905563,\n",
       "  3.375517530690664,\n",
       "  3.8479430557117134,\n",
       "  3.3755310722906993,\n",
       "  2.137587883573445,\n",
       "  1.075516062176665,\n",
       "  2.4616795587565816,\n",
       "  4.2638,\n",
       "  4.923459117327979,\n",
       "  4.263835406063419,\n",
       "  2.4618,\n",
       "  0.0]]"
      ]
     },
     "execution_count": 48,
     "metadata": {},
     "output_type": "execute_result"
    }
   ],
   "source": [
    "distance"
   ]
  },
  {
   "cell_type": "code",
   "execution_count": 49,
   "metadata": {
    "collapsed": false
   },
   "outputs": [
    {
     "data": {
      "text/html": [
       "<div>\n",
       "<style>\n",
       "    .dataframe thead tr:only-child th {\n",
       "        text-align: right;\n",
       "    }\n",
       "\n",
       "    .dataframe thead th {\n",
       "        text-align: left;\n",
       "    }\n",
       "\n",
       "    .dataframe tbody tr th {\n",
       "        vertical-align: top;\n",
       "    }\n",
       "</style>\n",
       "<table border=\"1\" class=\"dataframe\">\n",
       "  <thead>\n",
       "    <tr style=\"text-align: right;\">\n",
       "      <th></th>\n",
       "      <th>0</th>\n",
       "      <th>1</th>\n",
       "      <th>2</th>\n",
       "      <th>3</th>\n",
       "      <th>4</th>\n",
       "      <th>5</th>\n",
       "      <th>6</th>\n",
       "      <th>7</th>\n",
       "      <th>8</th>\n",
       "      <th>9</th>\n",
       "      <th>10</th>\n",
       "      <th>11</th>\n",
       "    </tr>\n",
       "  </thead>\n",
       "  <tbody>\n",
       "    <tr>\n",
       "      <th>0</th>\n",
       "      <td>0.000000</td>\n",
       "      <td>1.386213</td>\n",
       "      <td>2.400977</td>\n",
       "      <td>2.772400</td>\n",
       "      <td>2.400977</td>\n",
       "      <td>1.386213</td>\n",
       "      <td>1.075500</td>\n",
       "      <td>2.137549</td>\n",
       "      <td>3.375531</td>\n",
       "      <td>3.847900</td>\n",
       "      <td>3.375531</td>\n",
       "      <td>2.137549</td>\n",
       "    </tr>\n",
       "    <tr>\n",
       "      <th>1</th>\n",
       "      <td>1.386213</td>\n",
       "      <td>0.000000</td>\n",
       "      <td>1.386200</td>\n",
       "      <td>2.400977</td>\n",
       "      <td>2.772427</td>\n",
       "      <td>2.401000</td>\n",
       "      <td>2.137556</td>\n",
       "      <td>1.075516</td>\n",
       "      <td>2.137588</td>\n",
       "      <td>3.375495</td>\n",
       "      <td>3.847943</td>\n",
       "      <td>3.375518</td>\n",
       "    </tr>\n",
       "    <tr>\n",
       "      <th>2</th>\n",
       "      <td>2.400977</td>\n",
       "      <td>1.386200</td>\n",
       "      <td>0.000000</td>\n",
       "      <td>1.386213</td>\n",
       "      <td>2.401000</td>\n",
       "      <td>2.772427</td>\n",
       "      <td>3.375495</td>\n",
       "      <td>2.137588</td>\n",
       "      <td>1.075516</td>\n",
       "      <td>2.137556</td>\n",
       "      <td>3.375518</td>\n",
       "      <td>3.847943</td>\n",
       "    </tr>\n",
       "    <tr>\n",
       "      <th>3</th>\n",
       "      <td>2.772400</td>\n",
       "      <td>2.400977</td>\n",
       "      <td>1.386213</td>\n",
       "      <td>0.000000</td>\n",
       "      <td>1.386213</td>\n",
       "      <td>2.400977</td>\n",
       "      <td>3.847900</td>\n",
       "      <td>3.375531</td>\n",
       "      <td>2.137549</td>\n",
       "      <td>1.075500</td>\n",
       "      <td>2.137549</td>\n",
       "      <td>3.375531</td>\n",
       "    </tr>\n",
       "    <tr>\n",
       "      <th>4</th>\n",
       "      <td>2.400977</td>\n",
       "      <td>2.772427</td>\n",
       "      <td>2.401000</td>\n",
       "      <td>1.386213</td>\n",
       "      <td>0.000000</td>\n",
       "      <td>1.386200</td>\n",
       "      <td>3.375495</td>\n",
       "      <td>3.847943</td>\n",
       "      <td>3.375518</td>\n",
       "      <td>2.137556</td>\n",
       "      <td>1.075516</td>\n",
       "      <td>2.137588</td>\n",
       "    </tr>\n",
       "    <tr>\n",
       "      <th>5</th>\n",
       "      <td>1.386213</td>\n",
       "      <td>2.401000</td>\n",
       "      <td>2.772427</td>\n",
       "      <td>2.400977</td>\n",
       "      <td>1.386200</td>\n",
       "      <td>0.000000</td>\n",
       "      <td>2.137556</td>\n",
       "      <td>3.375518</td>\n",
       "      <td>3.847943</td>\n",
       "      <td>3.375495</td>\n",
       "      <td>2.137588</td>\n",
       "      <td>1.075516</td>\n",
       "    </tr>\n",
       "    <tr>\n",
       "      <th>6</th>\n",
       "      <td>1.075500</td>\n",
       "      <td>2.137556</td>\n",
       "      <td>3.375495</td>\n",
       "      <td>3.847900</td>\n",
       "      <td>3.375495</td>\n",
       "      <td>2.137556</td>\n",
       "      <td>0.000000</td>\n",
       "      <td>2.461680</td>\n",
       "      <td>4.263835</td>\n",
       "      <td>4.923400</td>\n",
       "      <td>4.263835</td>\n",
       "      <td>2.461680</td>\n",
       "    </tr>\n",
       "    <tr>\n",
       "      <th>7</th>\n",
       "      <td>2.137549</td>\n",
       "      <td>1.075516</td>\n",
       "      <td>2.137588</td>\n",
       "      <td>3.375531</td>\n",
       "      <td>3.847943</td>\n",
       "      <td>3.375518</td>\n",
       "      <td>2.461680</td>\n",
       "      <td>0.000000</td>\n",
       "      <td>2.461800</td>\n",
       "      <td>4.263835</td>\n",
       "      <td>4.923459</td>\n",
       "      <td>4.263800</td>\n",
       "    </tr>\n",
       "    <tr>\n",
       "      <th>8</th>\n",
       "      <td>3.375531</td>\n",
       "      <td>2.137588</td>\n",
       "      <td>1.075516</td>\n",
       "      <td>2.137549</td>\n",
       "      <td>3.375518</td>\n",
       "      <td>3.847943</td>\n",
       "      <td>4.263835</td>\n",
       "      <td>2.461800</td>\n",
       "      <td>0.000000</td>\n",
       "      <td>2.461680</td>\n",
       "      <td>4.263800</td>\n",
       "      <td>4.923459</td>\n",
       "    </tr>\n",
       "    <tr>\n",
       "      <th>9</th>\n",
       "      <td>3.847900</td>\n",
       "      <td>3.375495</td>\n",
       "      <td>2.137556</td>\n",
       "      <td>1.075500</td>\n",
       "      <td>2.137556</td>\n",
       "      <td>3.375495</td>\n",
       "      <td>4.923400</td>\n",
       "      <td>4.263835</td>\n",
       "      <td>2.461680</td>\n",
       "      <td>0.000000</td>\n",
       "      <td>2.461680</td>\n",
       "      <td>4.263835</td>\n",
       "    </tr>\n",
       "    <tr>\n",
       "      <th>10</th>\n",
       "      <td>3.375531</td>\n",
       "      <td>3.847943</td>\n",
       "      <td>3.375518</td>\n",
       "      <td>2.137549</td>\n",
       "      <td>1.075516</td>\n",
       "      <td>2.137588</td>\n",
       "      <td>4.263835</td>\n",
       "      <td>4.923459</td>\n",
       "      <td>4.263800</td>\n",
       "      <td>2.461680</td>\n",
       "      <td>0.000000</td>\n",
       "      <td>2.461800</td>\n",
       "    </tr>\n",
       "    <tr>\n",
       "      <th>11</th>\n",
       "      <td>2.137549</td>\n",
       "      <td>3.375518</td>\n",
       "      <td>3.847943</td>\n",
       "      <td>3.375531</td>\n",
       "      <td>2.137588</td>\n",
       "      <td>1.075516</td>\n",
       "      <td>2.461680</td>\n",
       "      <td>4.263800</td>\n",
       "      <td>4.923459</td>\n",
       "      <td>4.263835</td>\n",
       "      <td>2.461800</td>\n",
       "      <td>0.000000</td>\n",
       "    </tr>\n",
       "  </tbody>\n",
       "</table>\n",
       "</div>"
      ],
      "text/plain": [
       "          0         1         2         3         4         5         6   \\\n",
       "0   0.000000  1.386213  2.400977  2.772400  2.400977  1.386213  1.075500   \n",
       "1   1.386213  0.000000  1.386200  2.400977  2.772427  2.401000  2.137556   \n",
       "2   2.400977  1.386200  0.000000  1.386213  2.401000  2.772427  3.375495   \n",
       "3   2.772400  2.400977  1.386213  0.000000  1.386213  2.400977  3.847900   \n",
       "4   2.400977  2.772427  2.401000  1.386213  0.000000  1.386200  3.375495   \n",
       "5   1.386213  2.401000  2.772427  2.400977  1.386200  0.000000  2.137556   \n",
       "6   1.075500  2.137556  3.375495  3.847900  3.375495  2.137556  0.000000   \n",
       "7   2.137549  1.075516  2.137588  3.375531  3.847943  3.375518  2.461680   \n",
       "8   3.375531  2.137588  1.075516  2.137549  3.375518  3.847943  4.263835   \n",
       "9   3.847900  3.375495  2.137556  1.075500  2.137556  3.375495  4.923400   \n",
       "10  3.375531  3.847943  3.375518  2.137549  1.075516  2.137588  4.263835   \n",
       "11  2.137549  3.375518  3.847943  3.375531  2.137588  1.075516  2.461680   \n",
       "\n",
       "          7         8         9         10        11  \n",
       "0   2.137549  3.375531  3.847900  3.375531  2.137549  \n",
       "1   1.075516  2.137588  3.375495  3.847943  3.375518  \n",
       "2   2.137588  1.075516  2.137556  3.375518  3.847943  \n",
       "3   3.375531  2.137549  1.075500  2.137549  3.375531  \n",
       "4   3.847943  3.375518  2.137556  1.075516  2.137588  \n",
       "5   3.375518  3.847943  3.375495  2.137588  1.075516  \n",
       "6   2.461680  4.263835  4.923400  4.263835  2.461680  \n",
       "7   0.000000  2.461800  4.263835  4.923459  4.263800  \n",
       "8   2.461800  0.000000  2.461680  4.263800  4.923459  \n",
       "9   4.263835  2.461680  0.000000  2.461680  4.263835  \n",
       "10  4.923459  4.263800  2.461680  0.000000  2.461800  \n",
       "11  4.263800  4.923459  4.263835  2.461800  0.000000  "
      ]
     },
     "execution_count": 49,
     "metadata": {},
     "output_type": "execute_result"
    }
   ],
   "source": [
    "import pandas as pd\n",
    "pd.DataFrame(distance)"
   ]
  },
  {
   "cell_type": "markdown",
   "metadata": {},
   "source": [
    "# Can we make it more EFFICIENT?"
   ]
  },
  {
   "cell_type": "code",
   "execution_count": 50,
   "metadata": {
    "collapsed": true
   },
   "outputs": [],
   "source": [
    "import math\n",
    "dist_mat = [[5.0 for x in range(12)]for y in range(12)]\n",
    "for i in range(len(coordinates)):\n",
    "    for j in range(i, len(coordinates)):\n",
    "        dist_mat[i][j] = math.sqrt(((coordinates[i][0]-coordinates[j][0])**2)+((coordinates[i][1]-coordinates[j][1])**2)+((coordinates[i][2]-coordinates[j][2])**2))\n",
    "        dist_mat[j][i] = dist_mat[i][j]"
   ]
  },
  {
   "cell_type": "code",
   "execution_count": 51,
   "metadata": {
    "collapsed": false
   },
   "outputs": [
    {
     "data": {
      "text/html": [
       "<div>\n",
       "<style>\n",
       "    .dataframe thead tr:only-child th {\n",
       "        text-align: right;\n",
       "    }\n",
       "\n",
       "    .dataframe thead th {\n",
       "        text-align: left;\n",
       "    }\n",
       "\n",
       "    .dataframe tbody tr th {\n",
       "        vertical-align: top;\n",
       "    }\n",
       "</style>\n",
       "<table border=\"1\" class=\"dataframe\">\n",
       "  <thead>\n",
       "    <tr style=\"text-align: right;\">\n",
       "      <th></th>\n",
       "      <th>0</th>\n",
       "      <th>1</th>\n",
       "      <th>2</th>\n",
       "      <th>3</th>\n",
       "      <th>4</th>\n",
       "      <th>5</th>\n",
       "      <th>6</th>\n",
       "      <th>7</th>\n",
       "      <th>8</th>\n",
       "      <th>9</th>\n",
       "      <th>10</th>\n",
       "      <th>11</th>\n",
       "    </tr>\n",
       "  </thead>\n",
       "  <tbody>\n",
       "    <tr>\n",
       "      <th>0</th>\n",
       "      <td>0.000000</td>\n",
       "      <td>1.386213</td>\n",
       "      <td>2.400977</td>\n",
       "      <td>2.772400</td>\n",
       "      <td>2.400977</td>\n",
       "      <td>1.386213</td>\n",
       "      <td>1.075500</td>\n",
       "      <td>2.137549</td>\n",
       "      <td>3.375531</td>\n",
       "      <td>3.847900</td>\n",
       "      <td>3.375531</td>\n",
       "      <td>2.137549</td>\n",
       "    </tr>\n",
       "    <tr>\n",
       "      <th>1</th>\n",
       "      <td>1.386213</td>\n",
       "      <td>0.000000</td>\n",
       "      <td>1.386200</td>\n",
       "      <td>2.400977</td>\n",
       "      <td>2.772427</td>\n",
       "      <td>2.401000</td>\n",
       "      <td>2.137556</td>\n",
       "      <td>1.075516</td>\n",
       "      <td>2.137588</td>\n",
       "      <td>3.375495</td>\n",
       "      <td>3.847943</td>\n",
       "      <td>3.375518</td>\n",
       "    </tr>\n",
       "    <tr>\n",
       "      <th>2</th>\n",
       "      <td>2.400977</td>\n",
       "      <td>1.386200</td>\n",
       "      <td>0.000000</td>\n",
       "      <td>1.386213</td>\n",
       "      <td>2.401000</td>\n",
       "      <td>2.772427</td>\n",
       "      <td>3.375495</td>\n",
       "      <td>2.137588</td>\n",
       "      <td>1.075516</td>\n",
       "      <td>2.137556</td>\n",
       "      <td>3.375518</td>\n",
       "      <td>3.847943</td>\n",
       "    </tr>\n",
       "    <tr>\n",
       "      <th>3</th>\n",
       "      <td>2.772400</td>\n",
       "      <td>2.400977</td>\n",
       "      <td>1.386213</td>\n",
       "      <td>0.000000</td>\n",
       "      <td>1.386213</td>\n",
       "      <td>2.400977</td>\n",
       "      <td>3.847900</td>\n",
       "      <td>3.375531</td>\n",
       "      <td>2.137549</td>\n",
       "      <td>1.075500</td>\n",
       "      <td>2.137549</td>\n",
       "      <td>3.375531</td>\n",
       "    </tr>\n",
       "    <tr>\n",
       "      <th>4</th>\n",
       "      <td>2.400977</td>\n",
       "      <td>2.772427</td>\n",
       "      <td>2.401000</td>\n",
       "      <td>1.386213</td>\n",
       "      <td>0.000000</td>\n",
       "      <td>1.386200</td>\n",
       "      <td>3.375495</td>\n",
       "      <td>3.847943</td>\n",
       "      <td>3.375518</td>\n",
       "      <td>2.137556</td>\n",
       "      <td>1.075516</td>\n",
       "      <td>2.137588</td>\n",
       "    </tr>\n",
       "    <tr>\n",
       "      <th>5</th>\n",
       "      <td>1.386213</td>\n",
       "      <td>2.401000</td>\n",
       "      <td>2.772427</td>\n",
       "      <td>2.400977</td>\n",
       "      <td>1.386200</td>\n",
       "      <td>0.000000</td>\n",
       "      <td>2.137556</td>\n",
       "      <td>3.375518</td>\n",
       "      <td>3.847943</td>\n",
       "      <td>3.375495</td>\n",
       "      <td>2.137588</td>\n",
       "      <td>1.075516</td>\n",
       "    </tr>\n",
       "    <tr>\n",
       "      <th>6</th>\n",
       "      <td>1.075500</td>\n",
       "      <td>2.137556</td>\n",
       "      <td>3.375495</td>\n",
       "      <td>3.847900</td>\n",
       "      <td>3.375495</td>\n",
       "      <td>2.137556</td>\n",
       "      <td>0.000000</td>\n",
       "      <td>2.461680</td>\n",
       "      <td>4.263835</td>\n",
       "      <td>4.923400</td>\n",
       "      <td>4.263835</td>\n",
       "      <td>2.461680</td>\n",
       "    </tr>\n",
       "    <tr>\n",
       "      <th>7</th>\n",
       "      <td>2.137549</td>\n",
       "      <td>1.075516</td>\n",
       "      <td>2.137588</td>\n",
       "      <td>3.375531</td>\n",
       "      <td>3.847943</td>\n",
       "      <td>3.375518</td>\n",
       "      <td>2.461680</td>\n",
       "      <td>0.000000</td>\n",
       "      <td>2.461800</td>\n",
       "      <td>4.263835</td>\n",
       "      <td>4.923459</td>\n",
       "      <td>4.263800</td>\n",
       "    </tr>\n",
       "    <tr>\n",
       "      <th>8</th>\n",
       "      <td>3.375531</td>\n",
       "      <td>2.137588</td>\n",
       "      <td>1.075516</td>\n",
       "      <td>2.137549</td>\n",
       "      <td>3.375518</td>\n",
       "      <td>3.847943</td>\n",
       "      <td>4.263835</td>\n",
       "      <td>2.461800</td>\n",
       "      <td>0.000000</td>\n",
       "      <td>2.461680</td>\n",
       "      <td>4.263800</td>\n",
       "      <td>4.923459</td>\n",
       "    </tr>\n",
       "    <tr>\n",
       "      <th>9</th>\n",
       "      <td>3.847900</td>\n",
       "      <td>3.375495</td>\n",
       "      <td>2.137556</td>\n",
       "      <td>1.075500</td>\n",
       "      <td>2.137556</td>\n",
       "      <td>3.375495</td>\n",
       "      <td>4.923400</td>\n",
       "      <td>4.263835</td>\n",
       "      <td>2.461680</td>\n",
       "      <td>0.000000</td>\n",
       "      <td>2.461680</td>\n",
       "      <td>4.263835</td>\n",
       "    </tr>\n",
       "    <tr>\n",
       "      <th>10</th>\n",
       "      <td>3.375531</td>\n",
       "      <td>3.847943</td>\n",
       "      <td>3.375518</td>\n",
       "      <td>2.137549</td>\n",
       "      <td>1.075516</td>\n",
       "      <td>2.137588</td>\n",
       "      <td>4.263835</td>\n",
       "      <td>4.923459</td>\n",
       "      <td>4.263800</td>\n",
       "      <td>2.461680</td>\n",
       "      <td>0.000000</td>\n",
       "      <td>2.461800</td>\n",
       "    </tr>\n",
       "    <tr>\n",
       "      <th>11</th>\n",
       "      <td>2.137549</td>\n",
       "      <td>3.375518</td>\n",
       "      <td>3.847943</td>\n",
       "      <td>3.375531</td>\n",
       "      <td>2.137588</td>\n",
       "      <td>1.075516</td>\n",
       "      <td>2.461680</td>\n",
       "      <td>4.263800</td>\n",
       "      <td>4.923459</td>\n",
       "      <td>4.263835</td>\n",
       "      <td>2.461800</td>\n",
       "      <td>0.000000</td>\n",
       "    </tr>\n",
       "  </tbody>\n",
       "</table>\n",
       "</div>"
      ],
      "text/plain": [
       "          0         1         2         3         4         5         6   \\\n",
       "0   0.000000  1.386213  2.400977  2.772400  2.400977  1.386213  1.075500   \n",
       "1   1.386213  0.000000  1.386200  2.400977  2.772427  2.401000  2.137556   \n",
       "2   2.400977  1.386200  0.000000  1.386213  2.401000  2.772427  3.375495   \n",
       "3   2.772400  2.400977  1.386213  0.000000  1.386213  2.400977  3.847900   \n",
       "4   2.400977  2.772427  2.401000  1.386213  0.000000  1.386200  3.375495   \n",
       "5   1.386213  2.401000  2.772427  2.400977  1.386200  0.000000  2.137556   \n",
       "6   1.075500  2.137556  3.375495  3.847900  3.375495  2.137556  0.000000   \n",
       "7   2.137549  1.075516  2.137588  3.375531  3.847943  3.375518  2.461680   \n",
       "8   3.375531  2.137588  1.075516  2.137549  3.375518  3.847943  4.263835   \n",
       "9   3.847900  3.375495  2.137556  1.075500  2.137556  3.375495  4.923400   \n",
       "10  3.375531  3.847943  3.375518  2.137549  1.075516  2.137588  4.263835   \n",
       "11  2.137549  3.375518  3.847943  3.375531  2.137588  1.075516  2.461680   \n",
       "\n",
       "          7         8         9         10        11  \n",
       "0   2.137549  3.375531  3.847900  3.375531  2.137549  \n",
       "1   1.075516  2.137588  3.375495  3.847943  3.375518  \n",
       "2   2.137588  1.075516  2.137556  3.375518  3.847943  \n",
       "3   3.375531  2.137549  1.075500  2.137549  3.375531  \n",
       "4   3.847943  3.375518  2.137556  1.075516  2.137588  \n",
       "5   3.375518  3.847943  3.375495  2.137588  1.075516  \n",
       "6   2.461680  4.263835  4.923400  4.263835  2.461680  \n",
       "7   0.000000  2.461800  4.263835  4.923459  4.263800  \n",
       "8   2.461800  0.000000  2.461680  4.263800  4.923459  \n",
       "9   4.263835  2.461680  0.000000  2.461680  4.263835  \n",
       "10  4.923459  4.263800  2.461680  0.000000  2.461800  \n",
       "11  4.263800  4.923459  4.263835  2.461800  0.000000  "
      ]
     },
     "execution_count": 51,
     "metadata": {},
     "output_type": "execute_result"
    }
   ],
   "source": [
    "import pandas as pd\n",
    "pd.DataFrame(dist_mat)"
   ]
  },
  {
   "cell_type": "markdown",
   "metadata": {},
   "source": [
    "# Can we make it EVEN more EFFICIENT?"
   ]
  },
  {
   "cell_type": "code",
   "execution_count": 52,
   "metadata": {
    "collapsed": true
   },
   "outputs": [],
   "source": [
    "import math,numpy\n",
    "dist_mat2 = [[5.0 for x in range(12)]for y in range(12)]\n",
    "for i in range(len(coordinates)):\n",
    "    for j in range(i, len(coordinates)):\n",
    "        dist_mat2[i][j] = numpy.linalg.norm(coordinates[i]-coordinates[j])\n",
    "        dist_mat2[j][i] = dist_mat2[i][j]"
   ]
  },
  {
   "cell_type": "code",
   "execution_count": 53,
   "metadata": {
    "collapsed": false
   },
   "outputs": [
    {
     "data": {
      "text/html": [
       "<div>\n",
       "<style>\n",
       "    .dataframe thead tr:only-child th {\n",
       "        text-align: right;\n",
       "    }\n",
       "\n",
       "    .dataframe thead th {\n",
       "        text-align: left;\n",
       "    }\n",
       "\n",
       "    .dataframe tbody tr th {\n",
       "        vertical-align: top;\n",
       "    }\n",
       "</style>\n",
       "<table border=\"1\" class=\"dataframe\">\n",
       "  <thead>\n",
       "    <tr style=\"text-align: right;\">\n",
       "      <th></th>\n",
       "      <th>0</th>\n",
       "      <th>1</th>\n",
       "      <th>2</th>\n",
       "      <th>3</th>\n",
       "      <th>4</th>\n",
       "      <th>5</th>\n",
       "      <th>6</th>\n",
       "      <th>7</th>\n",
       "      <th>8</th>\n",
       "      <th>9</th>\n",
       "      <th>10</th>\n",
       "      <th>11</th>\n",
       "    </tr>\n",
       "  </thead>\n",
       "  <tbody>\n",
       "    <tr>\n",
       "      <th>0</th>\n",
       "      <td>0.000000</td>\n",
       "      <td>1.386213</td>\n",
       "      <td>2.400977</td>\n",
       "      <td>2.772400</td>\n",
       "      <td>2.400977</td>\n",
       "      <td>1.386213</td>\n",
       "      <td>1.075500</td>\n",
       "      <td>2.137549</td>\n",
       "      <td>3.375531</td>\n",
       "      <td>3.847900</td>\n",
       "      <td>3.375531</td>\n",
       "      <td>2.137549</td>\n",
       "    </tr>\n",
       "    <tr>\n",
       "      <th>1</th>\n",
       "      <td>1.386213</td>\n",
       "      <td>0.000000</td>\n",
       "      <td>1.386200</td>\n",
       "      <td>2.400977</td>\n",
       "      <td>2.772427</td>\n",
       "      <td>2.401000</td>\n",
       "      <td>2.137556</td>\n",
       "      <td>1.075516</td>\n",
       "      <td>2.137588</td>\n",
       "      <td>3.375495</td>\n",
       "      <td>3.847943</td>\n",
       "      <td>3.375518</td>\n",
       "    </tr>\n",
       "    <tr>\n",
       "      <th>2</th>\n",
       "      <td>2.400977</td>\n",
       "      <td>1.386200</td>\n",
       "      <td>0.000000</td>\n",
       "      <td>1.386213</td>\n",
       "      <td>2.401000</td>\n",
       "      <td>2.772427</td>\n",
       "      <td>3.375495</td>\n",
       "      <td>2.137588</td>\n",
       "      <td>1.075516</td>\n",
       "      <td>2.137556</td>\n",
       "      <td>3.375518</td>\n",
       "      <td>3.847943</td>\n",
       "    </tr>\n",
       "    <tr>\n",
       "      <th>3</th>\n",
       "      <td>2.772400</td>\n",
       "      <td>2.400977</td>\n",
       "      <td>1.386213</td>\n",
       "      <td>0.000000</td>\n",
       "      <td>1.386213</td>\n",
       "      <td>2.400977</td>\n",
       "      <td>3.847900</td>\n",
       "      <td>3.375531</td>\n",
       "      <td>2.137549</td>\n",
       "      <td>1.075500</td>\n",
       "      <td>2.137549</td>\n",
       "      <td>3.375531</td>\n",
       "    </tr>\n",
       "    <tr>\n",
       "      <th>4</th>\n",
       "      <td>2.400977</td>\n",
       "      <td>2.772427</td>\n",
       "      <td>2.401000</td>\n",
       "      <td>1.386213</td>\n",
       "      <td>0.000000</td>\n",
       "      <td>1.386200</td>\n",
       "      <td>3.375495</td>\n",
       "      <td>3.847943</td>\n",
       "      <td>3.375518</td>\n",
       "      <td>2.137556</td>\n",
       "      <td>1.075516</td>\n",
       "      <td>2.137588</td>\n",
       "    </tr>\n",
       "    <tr>\n",
       "      <th>5</th>\n",
       "      <td>1.386213</td>\n",
       "      <td>2.401000</td>\n",
       "      <td>2.772427</td>\n",
       "      <td>2.400977</td>\n",
       "      <td>1.386200</td>\n",
       "      <td>0.000000</td>\n",
       "      <td>2.137556</td>\n",
       "      <td>3.375518</td>\n",
       "      <td>3.847943</td>\n",
       "      <td>3.375495</td>\n",
       "      <td>2.137588</td>\n",
       "      <td>1.075516</td>\n",
       "    </tr>\n",
       "    <tr>\n",
       "      <th>6</th>\n",
       "      <td>1.075500</td>\n",
       "      <td>2.137556</td>\n",
       "      <td>3.375495</td>\n",
       "      <td>3.847900</td>\n",
       "      <td>3.375495</td>\n",
       "      <td>2.137556</td>\n",
       "      <td>0.000000</td>\n",
       "      <td>2.461680</td>\n",
       "      <td>4.263835</td>\n",
       "      <td>4.923400</td>\n",
       "      <td>4.263835</td>\n",
       "      <td>2.461680</td>\n",
       "    </tr>\n",
       "    <tr>\n",
       "      <th>7</th>\n",
       "      <td>2.137549</td>\n",
       "      <td>1.075516</td>\n",
       "      <td>2.137588</td>\n",
       "      <td>3.375531</td>\n",
       "      <td>3.847943</td>\n",
       "      <td>3.375518</td>\n",
       "      <td>2.461680</td>\n",
       "      <td>0.000000</td>\n",
       "      <td>2.461800</td>\n",
       "      <td>4.263835</td>\n",
       "      <td>4.923459</td>\n",
       "      <td>4.263800</td>\n",
       "    </tr>\n",
       "    <tr>\n",
       "      <th>8</th>\n",
       "      <td>3.375531</td>\n",
       "      <td>2.137588</td>\n",
       "      <td>1.075516</td>\n",
       "      <td>2.137549</td>\n",
       "      <td>3.375518</td>\n",
       "      <td>3.847943</td>\n",
       "      <td>4.263835</td>\n",
       "      <td>2.461800</td>\n",
       "      <td>0.000000</td>\n",
       "      <td>2.461680</td>\n",
       "      <td>4.263800</td>\n",
       "      <td>4.923459</td>\n",
       "    </tr>\n",
       "    <tr>\n",
       "      <th>9</th>\n",
       "      <td>3.847900</td>\n",
       "      <td>3.375495</td>\n",
       "      <td>2.137556</td>\n",
       "      <td>1.075500</td>\n",
       "      <td>2.137556</td>\n",
       "      <td>3.375495</td>\n",
       "      <td>4.923400</td>\n",
       "      <td>4.263835</td>\n",
       "      <td>2.461680</td>\n",
       "      <td>0.000000</td>\n",
       "      <td>2.461680</td>\n",
       "      <td>4.263835</td>\n",
       "    </tr>\n",
       "    <tr>\n",
       "      <th>10</th>\n",
       "      <td>3.375531</td>\n",
       "      <td>3.847943</td>\n",
       "      <td>3.375518</td>\n",
       "      <td>2.137549</td>\n",
       "      <td>1.075516</td>\n",
       "      <td>2.137588</td>\n",
       "      <td>4.263835</td>\n",
       "      <td>4.923459</td>\n",
       "      <td>4.263800</td>\n",
       "      <td>2.461680</td>\n",
       "      <td>0.000000</td>\n",
       "      <td>2.461800</td>\n",
       "    </tr>\n",
       "    <tr>\n",
       "      <th>11</th>\n",
       "      <td>2.137549</td>\n",
       "      <td>3.375518</td>\n",
       "      <td>3.847943</td>\n",
       "      <td>3.375531</td>\n",
       "      <td>2.137588</td>\n",
       "      <td>1.075516</td>\n",
       "      <td>2.461680</td>\n",
       "      <td>4.263800</td>\n",
       "      <td>4.923459</td>\n",
       "      <td>4.263835</td>\n",
       "      <td>2.461800</td>\n",
       "      <td>0.000000</td>\n",
       "    </tr>\n",
       "  </tbody>\n",
       "</table>\n",
       "</div>"
      ],
      "text/plain": [
       "          0         1         2         3         4         5         6   \\\n",
       "0   0.000000  1.386213  2.400977  2.772400  2.400977  1.386213  1.075500   \n",
       "1   1.386213  0.000000  1.386200  2.400977  2.772427  2.401000  2.137556   \n",
       "2   2.400977  1.386200  0.000000  1.386213  2.401000  2.772427  3.375495   \n",
       "3   2.772400  2.400977  1.386213  0.000000  1.386213  2.400977  3.847900   \n",
       "4   2.400977  2.772427  2.401000  1.386213  0.000000  1.386200  3.375495   \n",
       "5   1.386213  2.401000  2.772427  2.400977  1.386200  0.000000  2.137556   \n",
       "6   1.075500  2.137556  3.375495  3.847900  3.375495  2.137556  0.000000   \n",
       "7   2.137549  1.075516  2.137588  3.375531  3.847943  3.375518  2.461680   \n",
       "8   3.375531  2.137588  1.075516  2.137549  3.375518  3.847943  4.263835   \n",
       "9   3.847900  3.375495  2.137556  1.075500  2.137556  3.375495  4.923400   \n",
       "10  3.375531  3.847943  3.375518  2.137549  1.075516  2.137588  4.263835   \n",
       "11  2.137549  3.375518  3.847943  3.375531  2.137588  1.075516  2.461680   \n",
       "\n",
       "          7         8         9         10        11  \n",
       "0   2.137549  3.375531  3.847900  3.375531  2.137549  \n",
       "1   1.075516  2.137588  3.375495  3.847943  3.375518  \n",
       "2   2.137588  1.075516  2.137556  3.375518  3.847943  \n",
       "3   3.375531  2.137549  1.075500  2.137549  3.375531  \n",
       "4   3.847943  3.375518  2.137556  1.075516  2.137588  \n",
       "5   3.375518  3.847943  3.375495  2.137588  1.075516  \n",
       "6   2.461680  4.263835  4.923400  4.263835  2.461680  \n",
       "7   0.000000  2.461800  4.263835  4.923459  4.263800  \n",
       "8   2.461800  0.000000  2.461680  4.263800  4.923459  \n",
       "9   4.263835  2.461680  0.000000  2.461680  4.263835  \n",
       "10  4.923459  4.263800  2.461680  0.000000  2.461800  \n",
       "11  4.263800  4.923459  4.263835  2.461800  0.000000  "
      ]
     },
     "execution_count": 53,
     "metadata": {},
     "output_type": "execute_result"
    }
   ],
   "source": [
    "import pandas as pd\n",
    "pd.DataFrame(dist_mat2)"
   ]
  },
  {
   "cell_type": "markdown",
   "metadata": {},
   "source": [
    "# Is there any still ANY room for improvement?"
   ]
  },
  {
   "cell_type": "code",
   "execution_count": 54,
   "metadata": {
    "collapsed": true
   },
   "outputs": [],
   "source": [
    "import math,numpy\n",
    "dist_mat3 = [[5.0 for x in range(12)]for y in range(12)]\n",
    "for i in range(len(coordinates)):\n",
    "    for j in range(i+1, len(coordinates)):\n",
    "        dist_mat3[i][j] = numpy.linalg.norm(coordinates[i]-coordinates[j])\n",
    "        dist_mat3[j][i] = dist_mat3[i][j]"
   ]
  },
  {
   "cell_type": "code",
   "execution_count": 55,
   "metadata": {
    "collapsed": false
   },
   "outputs": [
    {
     "data": {
      "text/html": [
       "<div>\n",
       "<style>\n",
       "    .dataframe thead tr:only-child th {\n",
       "        text-align: right;\n",
       "    }\n",
       "\n",
       "    .dataframe thead th {\n",
       "        text-align: left;\n",
       "    }\n",
       "\n",
       "    .dataframe tbody tr th {\n",
       "        vertical-align: top;\n",
       "    }\n",
       "</style>\n",
       "<table border=\"1\" class=\"dataframe\">\n",
       "  <thead>\n",
       "    <tr style=\"text-align: right;\">\n",
       "      <th></th>\n",
       "      <th>0</th>\n",
       "      <th>1</th>\n",
       "      <th>2</th>\n",
       "      <th>3</th>\n",
       "      <th>4</th>\n",
       "      <th>5</th>\n",
       "      <th>6</th>\n",
       "      <th>7</th>\n",
       "      <th>8</th>\n",
       "      <th>9</th>\n",
       "      <th>10</th>\n",
       "      <th>11</th>\n",
       "    </tr>\n",
       "  </thead>\n",
       "  <tbody>\n",
       "    <tr>\n",
       "      <th>0</th>\n",
       "      <td>5.000000</td>\n",
       "      <td>1.386213</td>\n",
       "      <td>2.400977</td>\n",
       "      <td>2.772400</td>\n",
       "      <td>2.400977</td>\n",
       "      <td>1.386213</td>\n",
       "      <td>1.075500</td>\n",
       "      <td>2.137549</td>\n",
       "      <td>3.375531</td>\n",
       "      <td>3.847900</td>\n",
       "      <td>3.375531</td>\n",
       "      <td>2.137549</td>\n",
       "    </tr>\n",
       "    <tr>\n",
       "      <th>1</th>\n",
       "      <td>1.386213</td>\n",
       "      <td>5.000000</td>\n",
       "      <td>1.386200</td>\n",
       "      <td>2.400977</td>\n",
       "      <td>2.772427</td>\n",
       "      <td>2.401000</td>\n",
       "      <td>2.137556</td>\n",
       "      <td>1.075516</td>\n",
       "      <td>2.137588</td>\n",
       "      <td>3.375495</td>\n",
       "      <td>3.847943</td>\n",
       "      <td>3.375518</td>\n",
       "    </tr>\n",
       "    <tr>\n",
       "      <th>2</th>\n",
       "      <td>2.400977</td>\n",
       "      <td>1.386200</td>\n",
       "      <td>5.000000</td>\n",
       "      <td>1.386213</td>\n",
       "      <td>2.401000</td>\n",
       "      <td>2.772427</td>\n",
       "      <td>3.375495</td>\n",
       "      <td>2.137588</td>\n",
       "      <td>1.075516</td>\n",
       "      <td>2.137556</td>\n",
       "      <td>3.375518</td>\n",
       "      <td>3.847943</td>\n",
       "    </tr>\n",
       "    <tr>\n",
       "      <th>3</th>\n",
       "      <td>2.772400</td>\n",
       "      <td>2.400977</td>\n",
       "      <td>1.386213</td>\n",
       "      <td>5.000000</td>\n",
       "      <td>1.386213</td>\n",
       "      <td>2.400977</td>\n",
       "      <td>3.847900</td>\n",
       "      <td>3.375531</td>\n",
       "      <td>2.137549</td>\n",
       "      <td>1.075500</td>\n",
       "      <td>2.137549</td>\n",
       "      <td>3.375531</td>\n",
       "    </tr>\n",
       "    <tr>\n",
       "      <th>4</th>\n",
       "      <td>2.400977</td>\n",
       "      <td>2.772427</td>\n",
       "      <td>2.401000</td>\n",
       "      <td>1.386213</td>\n",
       "      <td>5.000000</td>\n",
       "      <td>1.386200</td>\n",
       "      <td>3.375495</td>\n",
       "      <td>3.847943</td>\n",
       "      <td>3.375518</td>\n",
       "      <td>2.137556</td>\n",
       "      <td>1.075516</td>\n",
       "      <td>2.137588</td>\n",
       "    </tr>\n",
       "    <tr>\n",
       "      <th>5</th>\n",
       "      <td>1.386213</td>\n",
       "      <td>2.401000</td>\n",
       "      <td>2.772427</td>\n",
       "      <td>2.400977</td>\n",
       "      <td>1.386200</td>\n",
       "      <td>5.000000</td>\n",
       "      <td>2.137556</td>\n",
       "      <td>3.375518</td>\n",
       "      <td>3.847943</td>\n",
       "      <td>3.375495</td>\n",
       "      <td>2.137588</td>\n",
       "      <td>1.075516</td>\n",
       "    </tr>\n",
       "    <tr>\n",
       "      <th>6</th>\n",
       "      <td>1.075500</td>\n",
       "      <td>2.137556</td>\n",
       "      <td>3.375495</td>\n",
       "      <td>3.847900</td>\n",
       "      <td>3.375495</td>\n",
       "      <td>2.137556</td>\n",
       "      <td>5.000000</td>\n",
       "      <td>2.461680</td>\n",
       "      <td>4.263835</td>\n",
       "      <td>4.923400</td>\n",
       "      <td>4.263835</td>\n",
       "      <td>2.461680</td>\n",
       "    </tr>\n",
       "    <tr>\n",
       "      <th>7</th>\n",
       "      <td>2.137549</td>\n",
       "      <td>1.075516</td>\n",
       "      <td>2.137588</td>\n",
       "      <td>3.375531</td>\n",
       "      <td>3.847943</td>\n",
       "      <td>3.375518</td>\n",
       "      <td>2.461680</td>\n",
       "      <td>5.000000</td>\n",
       "      <td>2.461800</td>\n",
       "      <td>4.263835</td>\n",
       "      <td>4.923459</td>\n",
       "      <td>4.263800</td>\n",
       "    </tr>\n",
       "    <tr>\n",
       "      <th>8</th>\n",
       "      <td>3.375531</td>\n",
       "      <td>2.137588</td>\n",
       "      <td>1.075516</td>\n",
       "      <td>2.137549</td>\n",
       "      <td>3.375518</td>\n",
       "      <td>3.847943</td>\n",
       "      <td>4.263835</td>\n",
       "      <td>2.461800</td>\n",
       "      <td>5.000000</td>\n",
       "      <td>2.461680</td>\n",
       "      <td>4.263800</td>\n",
       "      <td>4.923459</td>\n",
       "    </tr>\n",
       "    <tr>\n",
       "      <th>9</th>\n",
       "      <td>3.847900</td>\n",
       "      <td>3.375495</td>\n",
       "      <td>2.137556</td>\n",
       "      <td>1.075500</td>\n",
       "      <td>2.137556</td>\n",
       "      <td>3.375495</td>\n",
       "      <td>4.923400</td>\n",
       "      <td>4.263835</td>\n",
       "      <td>2.461680</td>\n",
       "      <td>5.000000</td>\n",
       "      <td>2.461680</td>\n",
       "      <td>4.263835</td>\n",
       "    </tr>\n",
       "    <tr>\n",
       "      <th>10</th>\n",
       "      <td>3.375531</td>\n",
       "      <td>3.847943</td>\n",
       "      <td>3.375518</td>\n",
       "      <td>2.137549</td>\n",
       "      <td>1.075516</td>\n",
       "      <td>2.137588</td>\n",
       "      <td>4.263835</td>\n",
       "      <td>4.923459</td>\n",
       "      <td>4.263800</td>\n",
       "      <td>2.461680</td>\n",
       "      <td>5.000000</td>\n",
       "      <td>2.461800</td>\n",
       "    </tr>\n",
       "    <tr>\n",
       "      <th>11</th>\n",
       "      <td>2.137549</td>\n",
       "      <td>3.375518</td>\n",
       "      <td>3.847943</td>\n",
       "      <td>3.375531</td>\n",
       "      <td>2.137588</td>\n",
       "      <td>1.075516</td>\n",
       "      <td>2.461680</td>\n",
       "      <td>4.263800</td>\n",
       "      <td>4.923459</td>\n",
       "      <td>4.263835</td>\n",
       "      <td>2.461800</td>\n",
       "      <td>5.000000</td>\n",
       "    </tr>\n",
       "  </tbody>\n",
       "</table>\n",
       "</div>"
      ],
      "text/plain": [
       "          0         1         2         3         4         5         6   \\\n",
       "0   5.000000  1.386213  2.400977  2.772400  2.400977  1.386213  1.075500   \n",
       "1   1.386213  5.000000  1.386200  2.400977  2.772427  2.401000  2.137556   \n",
       "2   2.400977  1.386200  5.000000  1.386213  2.401000  2.772427  3.375495   \n",
       "3   2.772400  2.400977  1.386213  5.000000  1.386213  2.400977  3.847900   \n",
       "4   2.400977  2.772427  2.401000  1.386213  5.000000  1.386200  3.375495   \n",
       "5   1.386213  2.401000  2.772427  2.400977  1.386200  5.000000  2.137556   \n",
       "6   1.075500  2.137556  3.375495  3.847900  3.375495  2.137556  5.000000   \n",
       "7   2.137549  1.075516  2.137588  3.375531  3.847943  3.375518  2.461680   \n",
       "8   3.375531  2.137588  1.075516  2.137549  3.375518  3.847943  4.263835   \n",
       "9   3.847900  3.375495  2.137556  1.075500  2.137556  3.375495  4.923400   \n",
       "10  3.375531  3.847943  3.375518  2.137549  1.075516  2.137588  4.263835   \n",
       "11  2.137549  3.375518  3.847943  3.375531  2.137588  1.075516  2.461680   \n",
       "\n",
       "          7         8         9         10        11  \n",
       "0   2.137549  3.375531  3.847900  3.375531  2.137549  \n",
       "1   1.075516  2.137588  3.375495  3.847943  3.375518  \n",
       "2   2.137588  1.075516  2.137556  3.375518  3.847943  \n",
       "3   3.375531  2.137549  1.075500  2.137549  3.375531  \n",
       "4   3.847943  3.375518  2.137556  1.075516  2.137588  \n",
       "5   3.375518  3.847943  3.375495  2.137588  1.075516  \n",
       "6   2.461680  4.263835  4.923400  4.263835  2.461680  \n",
       "7   5.000000  2.461800  4.263835  4.923459  4.263800  \n",
       "8   2.461800  5.000000  2.461680  4.263800  4.923459  \n",
       "9   4.263835  2.461680  5.000000  2.461680  4.263835  \n",
       "10  4.923459  4.263800  2.461680  5.000000  2.461800  \n",
       "11  4.263800  4.923459  4.263835  2.461800  5.000000  "
      ]
     },
     "execution_count": 55,
     "metadata": {},
     "output_type": "execute_result"
    }
   ],
   "source": [
    "import pandas as pd\n",
    "pd.DataFrame(dist_mat3)"
   ]
  },
  {
   "cell_type": "markdown",
   "metadata": {},
   "source": [
    "## One last thing: Eigenvalue problem."
   ]
  },
  {
   "cell_type": "code",
   "execution_count": 56,
   "metadata": {
    "collapsed": false
   },
   "outputs": [
    {
     "data": {
      "text/plain": [
       "array([[ 2.,  7.],\n",
       "       [-1., -6.]])"
      ]
     },
     "execution_count": 56,
     "metadata": {},
     "output_type": "execute_result"
    }
   ],
   "source": [
    "import numpy\n",
    "my_matrix = numpy.array(([[2.0, 7.0], [-1.0, -6.0]]))\n",
    "\n",
    "# Note: I am using Float, even though the numbers here are ints!!!\n",
    "\n",
    "\n",
    "# How to compute the eigenvalue and eigenvectors corresponding to this matrix?\n",
    "\n",
    "\n",
    "\n",
    "\n",
    "\n",
    "\n",
    "\n",
    "\n",
    "\n",
    "\n",
    "\n",
    "\n",
    "\n",
    "\n",
    "\n",
    "\n",
    "\n",
    "\n",
    "\n",
    "\n",
    "\n",
    "\n",
    "\n",
    "\n",
    "\n",
    "\n",
    "\n",
    "\n",
    "\n",
    "\n",
    "\n",
    "\n",
    "\n",
    "\n",
    "\n",
    "\n",
    "\n",
    "\n",
    "my_matrix"
   ]
  },
  {
   "cell_type": "code",
   "execution_count": 57,
   "metadata": {
    "collapsed": true
   },
   "outputs": [],
   "source": [
    "eigenval, eigenvec = numpy.linalg.eig(my_matrix)"
   ]
  },
  {
   "cell_type": "code",
   "execution_count": 58,
   "metadata": {
    "collapsed": false
   },
   "outputs": [
    {
     "data": {
      "text/plain": [
       "array([ 1., -5.])"
      ]
     },
     "execution_count": 58,
     "metadata": {},
     "output_type": "execute_result"
    }
   ],
   "source": [
    "eigenval"
   ]
  },
  {
   "cell_type": "code",
   "execution_count": 59,
   "metadata": {
    "collapsed": false
   },
   "outputs": [
    {
     "data": {
      "text/plain": [
       "array([[ 0.98994949, -0.70710678],\n",
       "       [-0.14142136,  0.70710678]])"
      ]
     },
     "execution_count": 59,
     "metadata": {},
     "output_type": "execute_result"
    }
   ],
   "source": [
    "eigenvec"
   ]
  },
  {
   "cell_type": "markdown",
   "metadata": {},
   "source": [
    "# Moral: Do not try to reinvent the wheel.\n",
    "\n",
    "<img src=\"https://media.licdn.com/mpr/mpr/AAEAAQAAAAAAAAZSAAAAJDRlMWFlMzAyLWIyZmItNDY3ZS04ZjM0LTAzYTA0MTI4MmViMw.png\" width=800>"
   ]
  },
  {
   "cell_type": "code",
   "execution_count": null,
   "metadata": {
    "collapsed": true
   },
   "outputs": [],
   "source": []
  }
 ],
 "metadata": {
  "kernelspec": {
   "display_name": "Python2",
   "language": "python",
   "name": "python2"
  },
  "language_info": {
   "codemirror_mode": {
    "name": "ipython",
    "version": 2
   },
   "file_extension": ".py",
   "mimetype": "text/x-python",
   "name": "python",
   "nbconvert_exporter": "python",
   "pygments_lexer": "ipython2",
   "version": "2.7.13"
  }
 },
 "nbformat": 4,
 "nbformat_minor": 2
}
