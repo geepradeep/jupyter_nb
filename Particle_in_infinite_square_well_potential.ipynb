{
 "cells": [
  {
   "cell_type": "markdown",
   "metadata": {},
   "source": [
    "# Particle in a 1-D infinite square well potential\n",
    "\n",
    "Let's try and break down the topic:\n",
    "\n",
    "1-D : The particle can only travel in 1 dimension (aka the x-axis).\n",
    "\n",
    "Square well potential: Along the x-axis, there is a square well. The potential (we will talk about this more later) is *different* inside the well as compared to outside.\n",
    "\n",
    "**Infinite** square well potential: Outside the square well, the potential is infinity, whereas the potential is zero within the square well.\n",
    "\n",
    "How does the well look like?"
   ]
  },
  {
   "cell_type": "markdown",
   "metadata": {},
   "source": [
    "<img src=\"https://upload.wikimedia.org/wikipedia/commons/thumb/2/27/Infinite_potential_well.svg/600px-Infinite_potential_well.svg.png\" width=\"400\">"
   ]
  },
  {
   "cell_type": "markdown",
   "metadata": {},
   "source": [
    "As we solved in the class, the wave function for the particle in a 1-D infinite square well potential is given by:\n",
    "\n",
    "$$ \\psi_{n}(x) = \\sqrt{\\frac{2}{L}}\\ sin\\frac{n\\pi}{L}x $$"
   ]
  },
  {
   "cell_type": "code",
   "execution_count": 1,
   "metadata": {},
   "outputs": [
    {
     "data": {
      "application/vnd.jupyter.widget-view+json": {
       "model_id": "425f91ba13fe40cf8347ddfeae796782",
       "version_major": 2,
       "version_minor": 0
      },
      "text/plain": [
       "A Jupyter Widget"
      ]
     },
     "metadata": {},
     "output_type": "display_data"
    }
   ],
   "source": [
    "import math, numpy\n",
    "from ipywidgets import interactive\n",
    "import matplotlib.pyplot as plt\n",
    "\n",
    "def particle_infinite_box(L=0.5, n=2):\n",
    "    plt.figure(2)\n",
    "    x = numpy.linspace(0.0,L, num=300)\n",
    "    psi_x = (math.sqrt(2/L)*(numpy.sin(n*math.pi*x/L)))\n",
    "    plt.plot(x, psi_x)\n",
    "    plt.ylim(-2.0, 2.0)\n",
    "    plt.xlim(0-(0.1),L+(0.1))\n",
    "    plt.show()\n",
    "\n",
    "interactive_plot = interactive(particle_infinite_box, L=(0.5, 4.0, 0.5), n=(1, 20, 1))\n",
    "output = interactive_plot.children[-1]\n",
    "output.layout.height = '350px'\n",
    "interactive_plot"
   ]
  },
  {
   "cell_type": "markdown",
   "metadata": {},
   "source": [
    "## What about probabilities?"
   ]
  },
  {
   "cell_type": "code",
   "execution_count": 2,
   "metadata": {},
   "outputs": [
    {
     "data": {
      "application/vnd.jupyter.widget-view+json": {
       "model_id": "a373eb584fc145358f2233aa667a046e",
       "version_major": 2,
       "version_minor": 0
      },
      "text/plain": [
       "A Jupyter Widget"
      ]
     },
     "metadata": {},
     "output_type": "display_data"
    }
   ],
   "source": [
    "import math, numpy\n",
    "from ipywidgets import interactive\n",
    "import matplotlib.pyplot as plt\n",
    "\n",
    "def particle_infinite_box(L=0.5, n=2):\n",
    "    plt.figure(2)\n",
    "    x = numpy.linspace(0.0,L, num=300)\n",
    "    psi_x = (math.sqrt(2/L)*(numpy.sin(n*math.pi*x/L)))**2\n",
    "    plt.plot(x, psi_x)\n",
    "    plt.ylim(0, 4)\n",
    "    plt.xlim(0-(0.1),L+(0.1))\n",
    "    plt.show()\n",
    "\n",
    "interactive_plot = interactive(particle_infinite_box, L=(0.5, 4.0, 0.5), n=(1, 20, 1))\n",
    "output = interactive_plot.children[-1]\n",
    "output.layout.height = '350px'\n",
    "interactive_plot"
   ]
  },
  {
   "cell_type": "markdown",
   "metadata": {},
   "source": [
    "# Question for thought? What is the area under the curve for all the $ \\psi^{2} $ functions?"
   ]
  }
 ],
 "metadata": {
  "kernelspec": {
   "display_name": "Python2",
   "language": "python",
   "name": "python2"
  },
  "language_info": {
   "codemirror_mode": {
    "name": "ipython",
    "version": 2
   },
   "file_extension": ".py",
   "mimetype": "text/x-python",
   "name": "python",
   "nbconvert_exporter": "python",
   "pygments_lexer": "ipython2",
   "version": "2.7.13"
  }
 },
 "nbformat": 4,
 "nbformat_minor": 2
}
